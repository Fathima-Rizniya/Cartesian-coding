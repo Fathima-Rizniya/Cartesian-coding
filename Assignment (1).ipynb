{
  "nbformat": 4,
  "nbformat_minor": 0,
  "metadata": {
    "colab": {
      "name": "Assignment",
      "provenance": []
    },
    "kernelspec": {
      "name": "python3",
      "display_name": "Python 3"
    },
    "language_info": {
      "name": "python"
    }
  },
  "cells": [
    {
      "cell_type": "markdown",
      "source": [
        "**Python Code**"
      ],
      "metadata": {
        "id": "S4crC0aneVsA"
      }
    },
    {
      "cell_type": "code",
      "execution_count": 9,
      "metadata": {
        "colab": {
          "base_uri": "https://localhost:8080/"
        },
        "id": "B22hDCxEFG_m",
        "outputId": "794d8bfd-f71d-46df-89d0-99f88240bf45"
      },
      "outputs": [
        {
          "output_type": "stream",
          "name": "stdout",
          "text": [
            "This declaration represents a political commitment among declaration partners to advance a positive vision for the Internet in this era of a united europe\n",
            "Europe united a of era this in internet the for vision positive a advance to partners declaration among commitment political a represents declaration this\n",
            "a  :  3\n",
            "declaration  :  2\n"
          ]
        }
      ],
      "source": [
        "from IPython.core.shellapp import List\n",
        "n = input()\n",
        "n.lower()\n",
        "l= len(n)-1\n",
        "a=\"\"\n",
        "begin = l+1\n",
        "end = l+1\n",
        "while (l>=0):\n",
        "  if(n[l]==\" \"):\n",
        "    begin=l+1\n",
        "    while (begin!= end):\n",
        "      a+=n[begin]\n",
        "      begin+=1\n",
        "    a+=\" \"\n",
        "    end=l\n",
        "  l-=1\n",
        "begin = 0\n",
        "while(begin!= end):\n",
        "  a+=n[begin]\n",
        "  begin+=1\n",
        "\n",
        "print(a.capitalize())\n",
        "\n",
        "b= a.split()\n",
        "\n",
        "def high_count(b):\n",
        "  for i in range (2):\n",
        "    a = max(set(b),key=b.count)\n",
        "    print(a,\" : \",b.count(a))\n",
        "    b.remove(a)\n",
        "\n",
        "high_count(b)"
      ]
    },
    {
      "cell_type": "markdown",
      "source": [
        "**Assignment 2 SQL**"
      ],
      "metadata": {
        "id": "8e_jlQgId9CS"
      }
    },
    {
      "cell_type": "code",
      "source": [
        "CREATE TABLE CustomerID (\n",
        "    Customer_Id varchar(255)\n",
        ");\n",
        "INSERT INTO CustomerID values(Abhinash);\n",
        "INSERT INTO CustomerID values(Vipin);\n",
        "INSERT INTO CustomerID values(Mahesh);\n",
        "INSERT INTO CustomerID values(Bijoy);\n",
        "INSERT INTO CustomerID values(Bhabani);\n",
        "INSERT INTO CustomerID values(Ashutosh);\n",
        "\n",
        "CREATE TABLE VoucherID (\n",
        "    Voucher_Id varchar(255)\n",
        ");\n",
        "INSERT INTO VoucherID values(ABXFH);\n",
        "INSERT INTO VoucherID values(SDFGH);\n",
        "INSERT INTO VoucherID values(ERTYY);\n",
        "INSERT INTO VoucherID values(PPLKM);\n",
        "\n",
        "SELECT CustomerID.Customer_Id, VoucherID.Voucher_Id\n",
        "FROM CustomerID\n",
        "FULL OUTER JOIN VoucherID ON CustomerID.Customer_Id=VoucherID.Customer_Id\n",
        "ORDER BY CustomerID.Customer_Id;"
      ],
      "metadata": {
        "id": "4QghFL1L17rQ"
      },
      "execution_count": null,
      "outputs": []
    },
    {
      "cell_type": "markdown",
      "source": [
        "**Assignment 2 SQL**"
      ],
      "metadata": {
        "id": "nS0qeJ9_hlPT"
      }
    },
    {
      "cell_type": "code",
      "source": [
        "SELECT Sale_Qty FROM Purchase_History\n",
        "SELECT Cat_Id, Product_Id FROM Product_Catalogue\n",
        "GROUP BY Sale_Qty, Product_Id\n",
        "ORDER BY COUNT(Cat_Id);"
      ],
      "metadata": {
        "id": "qRCf2oxGFmCl"
      },
      "execution_count": null,
      "outputs": []
    }
  ]
}